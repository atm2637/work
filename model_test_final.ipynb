{
 "cells": [
  {
   "cell_type": "code",
   "execution_count": 6,
   "metadata": {},
   "outputs": [
    {
     "name": "stdout",
     "output_type": "stream",
     "text": [
      "請輸入要查詢的電影復仇者聯盟\n",
      "好看好看真的太好看越多英雄參戰越好看\n",
      "我覺得特效非常棒，而且整部片有很多好笑的點，尤其是浩克那段最好笑XD....反正在看這部片子之前你本來就應該了解這部片子是什麼樣的片子，它本來就是個無腦的商業性質的爽片，還一大堆人在那裡說劇情爛沒有梗，這種單純讓你看爽爽的商業片本來就是如此了，會這樣說的人真的太少在看電影了=.=\n",
      "現在的人喜歡看智障爽片，我根本一顆星都不想給，想打負五顆星 就是有你們這些智障給五顆星，才導致片商一直繼續拍腦弱片，這種片子他媽就只是未了要賺錢而已 還有人講說這是劇情片不是爽片? 幹!!這不叫爽片什麼是爽片? 而且沒頭沒尾的打來打趣，到底爽在哪啦? 你他媽解釋給我聽?\n",
      "卡司強大!特效無敵!但劇情她媽有夠爛......請去看老實說系列!\n",
      "復仇者聯盟原本就有漫畫 成員不只電影幾位 漫畫一開始就只有美國隊長 鋼鐵人 索爾 浩克 應眼 黑寡婦 少了蟻人跟黃蜂是在2015年暑期上映  並不是想要甚麼英雄就加入 而且沒看過他們英雄個人電影怎麼看得懂本片劇情發展 鋼鐵人1彩蛋就是復仇者開端 陸續派斯蒙英雄電影彩蛋就為了復仇者聯盟而鋪路 我想就算第2、3集少數觀眾看得懂劇情  就因為看不懂說是難看、台詞長就說是廢話!? 後續也會推出個人電影續集或新英雄 只看他們一起在電影裡 就等於是沒看這齣復仇者系列\n",
      "對於一些人說這部是爛片的人你們有沒有想想導演跟工作人員及演員拍片過程的辛苦在哪裡?? 請不要以你的看法來批評這部電影...難道有本事你們就可以拍得更好嗎?\n",
      "雖然覺得浩客強的好唬爛，但還是覺得好hi\n",
      "小朋友看得無腦片 大鍋炒 改天會不會北斗神拳大戰聖鬥士加快打旋風也大賣 真不知給五科星的人是也喜歡這大鍋炒調調\n",
      "沒多大的爆點,還好沒去電影院看,更驚訝的是超多人給5顆星\n",
      "太刺激 必看好片!!~\n",
      "復仇者聯盟 yahoo電影 的好評有 10 篇\n",
      "復仇者聯盟 yahoo電影 的負評有 0 篇\n"
     ]
    }
   ],
   "source": [
    "import joblib\n",
    "import re\n",
    "import requests\n",
    "from bs4 import BeautifulSoup\n",
    "from sklearn.feature_extraction.text import CountVectorizer\n",
    "import jieba\n",
    "headers = {'User-Agent': 'Mozilla/5.0 (Windows NT 10.0; Win64; x64) AppleWebKit/537.36 (KHTML, like Gecko) Chrome/83.0.4103.61 Safari/537.36'}\n",
    "movie_name = input('請輸入要查詢的電影') + (' yahoo電影')\n",
    "# Google 搜尋 URL\n",
    "google_url = 'https://www.google.com/search?q=%s' %(movie_name)\n",
    "google_list = requests.get(google_url, headers = headers)\n",
    "google_soup = BeautifulSoup(google_list.text, 'html.parser')\n",
    "google_list_url = google_soup.select('div[class=\"r\"]')\n",
    "yahoo_url = google_list_url[0].a['href']\n",
    "yahoo_url.replace(\"main\", \"review\")\n",
    "yahoo_comment = requests.get(yahoo_url.replace(\"main\", \"review\"), headers = headers)\n",
    "yahoo_comment_soup = BeautifulSoup(yahoo_comment.text, 'html.parser')\n",
    "yahoo_comment_list = yahoo_comment_soup.select('ul[class=\"usercom_list\"] span')\n",
    "stopwords = [line.strip() for line in open('./jieba_data/baidu_stopwords.txt',encoding='UTF-8').readlines()]\n",
    "g = 0\n",
    "b = 0\n",
    "\n",
    "#讀取模型\n",
    "\n",
    "clf = joblib.load(\"model_31778_5679.m\")\n",
    "bow_transformer = joblib.load(\"trans_31778_5679.m\")\n",
    "\n",
    "\n",
    "for comment in yahoo_comment_list:\n",
    "        if comment.text =='':\n",
    "            continue\n",
    "        else:\n",
    "            text = comment.text.replace('\\n', '')\n",
    "            print(text)\n",
    "            text = re.sub(\"[\\s+\\.\\!\\/_,$%^*(+\\\"\\']+|[+——！，。？、~@#￥%……&*（）]\", \"\", text)\n",
    "            text = jieba.lcut(text)\n",
    "            text_transformed = bow_transformer.transform(text)\n",
    "            c = clf.predict(text_transformed)[0]\n",
    "            if c == 1:\n",
    "                g += 1\n",
    "            else:\n",
    "                b += 1\n",
    "print(movie_name,'的好評有',g,'篇')\n",
    "print(movie_name,'的負評有',b,'篇')\n",
    "#print('好評率:',g/(g+b)*100,'%')"
   ]
  },
  {
   "cell_type": "code",
   "execution_count": null,
   "metadata": {},
   "outputs": [],
   "source": []
  }
 ],
 "metadata": {
  "kernelspec": {
   "display_name": "Python 3",
   "language": "python",
   "name": "python3"
  },
  "language_info": {
   "codemirror_mode": {
    "name": "ipython",
    "version": 3
   },
   "file_extension": ".py",
   "mimetype": "text/x-python",
   "name": "python",
   "nbconvert_exporter": "python",
   "pygments_lexer": "ipython3",
   "version": "3.8.2"
  }
 },
 "nbformat": 4,
 "nbformat_minor": 4
}
