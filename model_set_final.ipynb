{
 "cells": [
  {
   "cell_type": "code",
   "execution_count": 1,
   "metadata": {},
   "outputs": [],
   "source": [
    "import pandas as pd\n",
    "import numpy as np\n",
    "import jieba\n",
    "\n",
    "'''\n",
    "選擇讀取的正負評資料，原始資料正評31778則，負評5679則\n",
    "'''\n",
    "\n",
    "df1 = pd.read_csv('good_31778.csv', encoding='utf-8')\n",
    "#df1 = pd.read_csv('good_5679.csv', encoding='utf-8')\n",
    "df2 = pd.read_csv('bad_5679.csv', encoding='utf-8')\n",
    "\n",
    "col_name1=df1.columns.tolist()\n",
    "col_name2=df2.columns.tolist()\n",
    "col_name1.insert(2,'score')\n",
    "col_name2.insert(2,'score')\n",
    "df1['score']=1\n",
    "df2['score']=2\n",
    "df_total=pd.concat([df1, df2])\n",
    "\n",
    "#新增cut_comment欄位為後續使用\n",
    "\n",
    "df_total['cut_comment']=\" \"\n",
    "jieba.set_dictionary('jieba_data/dict.txt.big')"
   ]
  },
  {
   "cell_type": "code",
   "execution_count": 2,
   "metadata": {},
   "outputs": [
    {
     "data": {
      "text/html": [
       "<div>\n",
       "<style scoped>\n",
       "    .dataframe tbody tr th:only-of-type {\n",
       "        vertical-align: middle;\n",
       "    }\n",
       "\n",
       "    .dataframe tbody tr th {\n",
       "        vertical-align: top;\n",
       "    }\n",
       "\n",
       "    .dataframe thead th {\n",
       "        text-align: right;\n",
       "    }\n",
       "</style>\n",
       "<table border=\"1\" class=\"dataframe\">\n",
       "  <thead>\n",
       "    <tr style=\"text-align: right;\">\n",
       "      <th></th>\n",
       "      <th>comment</th>\n",
       "      <th>score</th>\n",
       "      <th>cut_comment</th>\n",
       "    </tr>\n",
       "  </thead>\n",
       "  <tbody>\n",
       "    <tr>\n",
       "      <th>0</th>\n",
       "      <td>年瑞凡菲尼克斯猝逝他與強納森普萊斯茱蒂戴維斯共同演出的黑血在完成百分之九十左右的拍攝進度後就...</td>\n",
       "      <td>1</td>\n",
       "      <td></td>\n",
       "    </tr>\n",
       "    <tr>\n",
       "      <th>1</th>\n",
       "      <td>雷文防雷資訊頁雷文主文分隔線新聞報導這部電影說是「超越前座」個人覺得過譽了前面還可以尤其是鋪...</td>\n",
       "      <td>1</td>\n",
       "      <td></td>\n",
       "    </tr>\n",
       "    <tr>\n",
       "      <th>2</th>\n",
       "      <td>上一次看電影已經是四個月以前了終於趁著桃園新光影城新開幕剛好期待許久的打噴嚏今天全天場次怎麼...</td>\n",
       "      <td>1</td>\n",
       "      <td></td>\n",
       "    </tr>\n",
       "    <tr>\n",
       "      <th>3</th>\n",
       "      <td>月日上架了一部漫畫改編的少年奇幻劇修女戰士緊接著下個週末月日又上架了一部漫畫改編的少年動作片...</td>\n",
       "      <td>1</td>\n",
       "      <td></td>\n",
       "    </tr>\n",
       "    <tr>\n",
       "      <th>4</th>\n",
       "      <td>抬尬后小弟身為一個忠實原作小說粉今天一早早場就去看了其實應該是普雷的但是為了騙各位進來所以打...</td>\n",
       "      <td>1</td>\n",
       "      <td></td>\n",
       "    </tr>\n",
       "    <tr>\n",
       "      <th>...</th>\n",
       "      <td>...</td>\n",
       "      <td>...</td>\n",
       "      <td>...</td>\n",
       "    </tr>\n",
       "    <tr>\n",
       "      <th>5674</th>\n",
       "      <td>雷文防雷資訊頁影片名稱無雙觀影時間月觀影地點戲院名稱秀泰觀影方式自行購票§其他防雷說明非必要...</td>\n",
       "      <td>2</td>\n",
       "      <td></td>\n",
       "    </tr>\n",
       "    <tr>\n",
       "      <th>5675</th>\n",
       "      <td>雷文防雷資訊頁影片名稱來了一個男孩之後觀影時間觀影地點金馬影展觀影方式自行購票§其他防雷說明...</td>\n",
       "      <td>2</td>\n",
       "      <td></td>\n",
       "    </tr>\n",
       "    <tr>\n",
       "      <th>5676</th>\n",
       "      <td>雷文主文分隔線網誌版身為恐怖片的電影粉就算在電影版看到別人的影評列為級恐怖片之輩還是興沖沖地...</td>\n",
       "      <td>2</td>\n",
       "      <td></td>\n",
       "    </tr>\n",
       "    <tr>\n",
       "      <th>5677</th>\n",
       "      <td>雷文防雷資訊頁影片名稱誰先愛上他的觀影時間觀影地點台南真善美觀影方式自行購票夾銗防雷說明非必...</td>\n",
       "      <td>2</td>\n",
       "      <td></td>\n",
       "    </tr>\n",
       "    <tr>\n",
       "      <th>5678</th>\n",
       "      <td>有幸入選金馬亞洲電影觀察團搶先在影展前觀看九部亞洲新導演的作品並為奈派克獎；的選評提供一點個...</td>\n",
       "      <td>2</td>\n",
       "      <td></td>\n",
       "    </tr>\n",
       "  </tbody>\n",
       "</table>\n",
       "<p>37457 rows × 3 columns</p>\n",
       "</div>"
      ],
      "text/plain": [
       "                                                comment  score cut_comment\n",
       "0     年瑞凡菲尼克斯猝逝他與強納森普萊斯茱蒂戴維斯共同演出的黑血在完成百分之九十左右的拍攝進度後就...      1            \n",
       "1     雷文防雷資訊頁雷文主文分隔線新聞報導這部電影說是「超越前座」個人覺得過譽了前面還可以尤其是鋪...      1            \n",
       "2     上一次看電影已經是四個月以前了終於趁著桃園新光影城新開幕剛好期待許久的打噴嚏今天全天場次怎麼...      1            \n",
       "3     月日上架了一部漫畫改編的少年奇幻劇修女戰士緊接著下個週末月日又上架了一部漫畫改編的少年動作片...      1            \n",
       "4     抬尬后小弟身為一個忠實原作小說粉今天一早早場就去看了其實應該是普雷的但是為了騙各位進來所以打...      1            \n",
       "...                                                 ...    ...         ...\n",
       "5674  雷文防雷資訊頁影片名稱無雙觀影時間月觀影地點戲院名稱秀泰觀影方式自行購票§其他防雷說明非必要...      2            \n",
       "5675  雷文防雷資訊頁影片名稱來了一個男孩之後觀影時間觀影地點金馬影展觀影方式自行購票§其他防雷說明...      2            \n",
       "5676  雷文主文分隔線網誌版身為恐怖片的電影粉就算在電影版看到別人的影評列為級恐怖片之輩還是興沖沖地...      2            \n",
       "5677  雷文防雷資訊頁影片名稱誰先愛上他的觀影時間觀影地點台南真善美觀影方式自行購票夾銗防雷說明非必...      2            \n",
       "5678  有幸入選金馬亞洲電影觀察團搶先在影展前觀看九部亞洲新導演的作品並為奈派克獎；的選評提供一點個...      2            \n",
       "\n",
       "[37457 rows x 3 columns]"
      ]
     },
     "execution_count": 2,
     "metadata": {},
     "output_type": "execute_result"
    }
   ],
   "source": [
    "df_total"
   ]
  },
  {
   "cell_type": "code",
   "execution_count": 3,
   "metadata": {},
   "outputs": [
    {
     "name": "stderr",
     "output_type": "stream",
     "text": [
      "Building prefix dict from C:\\Users\\Big data\\PycharmProjects\\train_good_bad\\jieba_data\\dict.txt.big ...\n",
      "Loading model from cache C:\\Users\\BIGDAT~1\\AppData\\Local\\Temp\\jieba.u50ec2580c423b29812c80c9b62425765.cache\n",
      "Loading model cost 0.933 seconds.\n",
      "Prefix dict has been built successfully.\n"
     ]
    }
   ],
   "source": [
    "import re\n",
    "number = 0\n",
    "\n",
    "'''\n",
    "未縮減資料或縮減資料row數不同，在此先將comment由jieba斷字斷詞後存入cut_comment欄位\n",
    "斷字斷詞也可以放在向量化時再進行，但同時執行可能占用太多記憶體，所以分成二步\n",
    "'''\n",
    "\n",
    "for i in range(37457):   # 31778:5679\n",
    "#for i in range(11358):   # 5679:5679\n",
    "\n",
    "    comment = df_total.iloc[number, 0]\n",
    "    comment = re.sub(\"[\\s+\\.\\!\\/_,$%^*(+\\\"\\']+|[+——！，。？、~@#￥%……&*（）]\", \"\",str(comment))\n",
    "    df_total.iloc[number, 2] = ' '.join(jieba.cut(comment, cut_all=False, HMM=True))\n",
    "    number += 1"
   ]
  },
  {
   "cell_type": "code",
   "execution_count": 6,
   "metadata": {},
   "outputs": [
    {
     "name": "stdout",
     "output_type": "stream",
     "text": [
      "              precision    recall  f1-score   support\n",
      "\n",
      "           1       0.14      0.13      0.14      1733\n",
      "           2       0.15      0.16      0.15      1675\n",
      "\n",
      "    accuracy                           0.14      3408\n",
      "   macro avg       0.14      0.14      0.14      3408\n",
      "weighted avg       0.14      0.14      0.14      3408\n",
      "\n"
     ]
    }
   ],
   "source": [
    "#31778:5679或5679:5679   未特殊處理使用此段\n",
    "from sklearn.feature_extraction.text import CountVectorizer \n",
    "X = df_total.cut_comment\n",
    "y = df_total.score\n",
    "bow_transformer = CountVectorizer().fit(X.values.astype('U'))\n",
    "X = bow_transformer.transform(X.values.astype('U'))\n",
    "\n",
    "#分割訓練資料及測試資料\n",
    "\n",
    "from sklearn.model_selection import train_test_split,cross_val_score\n",
    "X_train, X_test, y_train, y_test = train_test_split(X, y, test_size=0.3, random_state=99)\n",
    "\n",
    "from sklearn.naive_bayes import MultinomialNB\n",
    "clf = MultinomialNB(alpha=0.01)\n",
    "clf.fit(X_train, y_train)\n",
    "preds = clf.predict(X_test)\n",
    "\n",
    "from sklearn.metrics import confusion_matrix, classification_report\n",
    "#根據預測值和真實值計算相關指標\n",
    "print(classification_report(y_test, preds))"
   ]
  },
  {
   "cell_type": "code",
   "execution_count": 4,
   "metadata": {},
   "outputs": [
    {
     "name": "stdout",
     "output_type": "stream",
     "text": [
      "              precision    recall  f1-score   support\n",
      "\n",
      "           1       0.86      0.85      0.86      9557\n",
      "           2       0.85      0.86      0.86      9510\n",
      "\n",
      "    accuracy                           0.86     19067\n",
      "   macro avg       0.86      0.86      0.86     19067\n",
      "weighted avg       0.86      0.86      0.86     19067\n",
      "\n"
     ]
    }
   ],
   "source": [
    "#31778:5679使用SMOTE演算法進行過採樣\n",
    "from sklearn.feature_extraction.text import CountVectorizer \n",
    "from imblearn.over_sampling import SMOTE\n",
    "X = df_total.cut_comment\n",
    "y = df_total.score\n",
    "oversampler=SMOTE(random_state=0)\n",
    "bow_transformer = CountVectorizer().fit(X.values.astype('U'))\n",
    "X_vec = bow_transformer.transform(X.values.astype('U'))\n",
    "X_resampled, y_resampled = oversampler.fit_sample(X_vec, y)\n",
    "\n",
    "#分割訓練資料及測試資料\n",
    "\n",
    "from sklearn.model_selection import train_test_split,cross_val_score\n",
    "X_train, X_test, y_train, y_test = train_test_split(X_resampled, y_resampled, test_size=0.3, random_state=99)\n",
    "\n",
    "from sklearn.naive_bayes import MultinomialNB\n",
    "clf = MultinomialNB(alpha=0.01)\n",
    "clf.fit(X_train, y_train)\n",
    "preds = clf.predict(X_test)\n",
    "\n",
    "\n",
    "from sklearn.metrics import confusion_matrix, classification_report\n",
    "#根據預測值和真實值計算相關指標\n",
    "print(classification_report(y_test, preds))"
   ]
  },
  {
   "cell_type": "code",
   "execution_count": 9,
   "metadata": {},
   "outputs": [
    {
     "data": {
      "text/plain": [
       "['trans_31778_5679_SMOTE.m']"
      ]
     },
     "execution_count": 9,
     "metadata": {},
     "output_type": "execute_result"
    }
   ],
   "source": [
    "#儲存模型以供後續使用\n",
    "\n",
    "import joblib\n",
    "joblib.dump(clf, \"model_31778_5679_SMOTE.m\")\n",
    "joblib.dump(bow_transformer, \"trans_31778_5679_SMOTE.m\")"
   ]
  },
  {
   "cell_type": "code",
   "execution_count": null,
   "metadata": {},
   "outputs": [],
   "source": []
  }
 ],
 "metadata": {
  "kernelspec": {
   "display_name": "Python 3",
   "language": "python",
   "name": "python3"
  },
  "language_info": {
   "codemirror_mode": {
    "name": "ipython",
    "version": 3
   },
   "file_extension": ".py",
   "mimetype": "text/x-python",
   "name": "python",
   "nbconvert_exporter": "python",
   "pygments_lexer": "ipython3",
   "version": "3.8.2"
  }
 },
 "nbformat": 4,
 "nbformat_minor": 4
}
